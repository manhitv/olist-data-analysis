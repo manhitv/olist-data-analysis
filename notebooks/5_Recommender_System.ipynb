{
 "cells": [
  {
   "cell_type": "code",
   "execution_count": null,
   "id": "eb9892e0-6594-4d13-a2b3-afaf06eda1bc",
   "metadata": {},
   "outputs": [],
   "source": [
    "# 1. Simple mode:\n",
    "# - Product Recommendation Based on Popularity by Month (and/or by Location) for New Customers\n",
    "# - Product Recommendation Based on Highly Rated Categories"
   ]
  },
  {
   "cell_type": "code",
   "execution_count": null,
   "id": "b0bc6dae-dcbc-462a-a274-93baeb24fb23",
   "metadata": {},
   "outputs": [],
   "source": [
    "# Add a survey here about recommender system definition & classification\n",
    "# Solution\n",
    "# And also the initiate of each method with business meaning\n",
    "# Metric for recommendation system?"
   ]
  },
  {
   "cell_type": "code",
   "execution_count": null,
   "id": "7b4b0cfe-5650-4877-8dce-d96a4a174806",
   "metadata": {},
   "outputs": [],
   "source": [
    "# 2. Alternating Least Squares: customer with nearest distance?\n",
    "# https://github.com/Nikhilkohli1/Olist-Marketing-Analytics/blob/master/5.%20Recommendation%20System/Jupyter%20Notebooks/Olist_Alternating_Least_Squares_SVD_.ipynb\n",
    "# Recommending top 10 highly coorelated products in sequence"
   ]
  },
  {
   "cell_type": "code",
   "execution_count": null,
   "id": "72ab76f4-76f2-4a3a-99e7-e2147b917831",
   "metadata": {},
   "outputs": [],
   "source": [
    "# 3. Customer2Vec - Loyal Customers who buys Products Frequently and Recently"
   ]
  },
  {
   "cell_type": "code",
   "execution_count": null,
   "id": "4f91c1d2-a62d-4c43-bd0b-18ff7fd13acb",
   "metadata": {},
   "outputs": [],
   "source": [
    "# Create models --> save to models\n",
    "# Deploy on Heroku / Flask (local only)"
   ]
  }
 ],
 "metadata": {
  "kernelspec": {
   "display_name": "Python 3 (ipykernel)",
   "language": "python",
   "name": "python3"
  },
  "language_info": {
   "codemirror_mode": {
    "name": "ipython",
    "version": 3
   },
   "file_extension": ".py",
   "mimetype": "text/x-python",
   "name": "python",
   "nbconvert_exporter": "python",
   "pygments_lexer": "ipython3",
   "version": "3.8.10"
  }
 },
 "nbformat": 4,
 "nbformat_minor": 5
}
