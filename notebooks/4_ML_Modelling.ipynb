{
 "cells": [
  {
   "cell_type": "markdown",
   "id": "9d9c13de-3464-473a-beb2-4299a6ca762a",
   "metadata": {},
   "source": [
    "## Model list\n",
    "#### Context\n",
    "distance (customers, sellers) vs. delivery time vs. late delivery rate vs. delivery estimation correctness\n",
    "\n",
    "#### 1. Estimate delivery time\n",
    "- order time\n",
    "- est. distance, location\n",
    "- product type\n",
    "#### 2. Freight value prediction\n",
    "- customers - sellers est. distance\n",
    "- volume, size, weight of product\n",
    "- price\n",
    "- product type\n",
    "- location: state/city\n",
    "#### 4. Rating prediction\n",
    "- https://www.kaggle.com/code/andresionek/predicting-customer-satisfaction#e.-Data-Viz\n",
    "- Use feature before delivery only\n",
    "- product_photos_qty            \n",
    "- product_description_lenght    \n",
    "- product_name_lenght          \n",
    "- order_products_value         \n",
    "- order_freight_value          \n",
    "- order_items_qty             \n",
    "- order_sellers_qty\n",
    "#### 5. Life time value prediction\n",
    "- Most customers are new, so this model will not contribute much - generally, new customers will have LTV equal the average current customers"
   ]
  },
  {
   "cell_type": "code",
   "execution_count": 1,
   "id": "a03c7292-b453-4d49-ad7e-19f6f0cefdc0",
   "metadata": {},
   "outputs": [],
   "source": [
    "# Deployment with MLflow"
   ]
  },
  {
   "cell_type": "code",
   "execution_count": null,
   "id": "3a458a7d-165b-4fc2-82a6-ca5d7e8165ff",
   "metadata": {},
   "outputs": [],
   "source": []
  }
 ],
 "metadata": {
  "kernelspec": {
   "display_name": "Python 3 (ipykernel)",
   "language": "python",
   "name": "python3"
  },
  "language_info": {
   "codemirror_mode": {
    "name": "ipython",
    "version": 3
   },
   "file_extension": ".py",
   "mimetype": "text/x-python",
   "name": "python",
   "nbconvert_exporter": "python",
   "pygments_lexer": "ipython3",
   "version": "3.8.10"
  }
 },
 "nbformat": 4,
 "nbformat_minor": 5
}
