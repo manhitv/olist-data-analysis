{
 "cells": [
  {
   "cell_type": "code",
   "execution_count": null,
   "id": "eb9892e0-6594-4d13-a2b3-afaf06eda1bc",
   "metadata": {},
   "outputs": [],
   "source": [
    "# 1. Simple mode:\n",
    "# - Product Recommendation Based on Popularity by Month (and/or by Location) for New Customers\n",
    "# - Product Recommendation Based on Highly Rated Categories"
   ]
  },
  {
   "cell_type": "markdown",
   "id": "824e3707-bd3b-438c-af64-32532de78252",
   "metadata": {},
   "source": [
    "### Prepration:\n",
    "Create utility matrix between users and products. This could be any relation between users and products such as click or not, watching time, rating... Our objective is to fill missing items. Note that these items generally very large compared to the available values. \n",
    "\n",
    "### Approaches: \n",
    "https://github.com/Chinmayrane16/Recommender-Systems-with-Collaborative-Filtering-and-Deep-Learning-Techniques/blob/master/Recommendation%20Systems%20with%20CF%20and%20DL%20Techniques.ipynb\n",
    "\n",
    "1. Content-based recommendation system\n",
    "\n",
    "Based on feature values of products. **For each user**, we create a ML model to learn from the input feature values to the output (scores from utility matrix).\n",
    "\n",
    "2. Collaborative filtering: take the relationship between users into account\n",
    "- Memory-based filtering: utility matrix -> normalize (average subtraction), combine with similarity matrix (average of k-nearest users)\n",
    "  + User-user:  similarity is calculated between users --> \"People like you also like\", \"You might also like\"\n",
    "  + Item-item: similarity is calculated between items --> \"Users who bought this might also like this\" (similar items). Much faster than user-user, and secondly user profiles changes quickly and the entire system model has to be recomputed, whereas item's average ratings doesn't change that quickly, and this leads to more stable rating distributions in the model, so the model doesn't have to be rebuilt as often.\n",
    "  + Similarity: Jaccard, cosine (most common), Euclide, pearson\n",
    "- Model-based filtering: Basically, we compress user-item matrix into a low dimension matrix. We use techniques like SVD which is a low-rank factorization method, PCA which is used for dimensionaliry reduction etc.\n",
    "  + K-Means: we could use K-Means to group our users to multiple clusters, then making recommendation based on their's clusters (the average or the centeroid).\n",
    "  + SVD\n",
    "  + KNN\n",
    "  + NMF\n",
    "- NMF using Deep Learning\n",
    "\n",
    "The concept behind matrix factorization models is that the preferences of a user can be determined by a small number of hidden factors. And these are called as Embeddings. There are two types of architectures:\n",
    "  + Architecture 1: dot product Embeddings - we embedding user and item matrix separately, then use dot product to combine these information to create features\n",
    "  + Architecture 2: concatenation Embeddings - we concatenate user and item matrix after using Embedding to create features\n",
    "\n",
    "### Evaluation\n",
    "Using RMSE, compare with the baseline: missing values equal average for each users."
   ]
  },
  {
   "cell_type": "code",
   "execution_count": null,
   "id": "7b4b0cfe-5650-4877-8dce-d96a4a174806",
   "metadata": {},
   "outputs": [],
   "source": [
    "# 2. Alternating Least Squares: customer with nearest distance?\n",
    "# https://github.com/Nikhilkohli1/Olist-Marketing-Analytics/blob/master/5.%20Recommendation%20System/Jupyter%20Notebooks/Olist_Alternating_Least_Squares_SVD_.ipynb\n",
    "# Recommending top 10 highly coorelated products in sequence"
   ]
  },
  {
   "cell_type": "code",
   "execution_count": null,
   "id": "4f91c1d2-a62d-4c43-bd0b-18ff7fd13acb",
   "metadata": {},
   "outputs": [],
   "source": [
    "# Create models --> save to models\n",
    "# Deploy on Heroku / Flask (local only)\n",
    "\n",
    "# Before Lunar New Year (01/02/2024)"
   ]
  },
  {
   "cell_type": "markdown",
   "id": "85c93a49-5752-4c9b-beb0-5f07420a051a",
   "metadata": {},
   "source": [
    "Notes\n",
    "\n",
    "Recommender systems are algorithms aimed at suggesting relevant items to users (items being movies to watch, text to read, products to buy or anything else depending on industries).\n",
    "\n",
    "Recommender systems are really critical in some industries as they can generate a huge amount of income when they are efficient or also be a way to stand out significantly from competitors. As a proof of the importance of recommender systems, we can mention that, a few years ago, Netflix organised a challenge (the \"Netflix prize\") where the goal was to produce a recommender system that performs better than its own algorithm with a prize of 1 million dollars to win.\n",
    "\n",
    "Image\n",
    "\n",
    "We will be using below approach to Recommend products - \n",
    " \n",
    "1. Recommendation for Potential Loyalists and Other - \n",
    "ALS (Alternating Least Squares) is an implicit recommendation algorithm to make a recommendation of products and product categories to the users. ALS is an iterative optimization process where for every iteration it tries to arrive closer and closer to a factorized representation of the original data.\n",
    "\n",
    "2. Recommendation for Loyal Customers who buys Products Frequently and Recently -\n",
    "Customer2Vec is a good method for these kinds of users. As these customers usually repeat their orders and buys frequently. We learn a semantic representation for Customers using their previous purchase history.\n",
    "\n",
    "We learn good semantic representations for customers (users) from transactional data using doc2vec. Each customer is a document, orders are sentences, and products are words. We also compare Customer2Vec with the baseline\n",
    "\n",
    "3. For Big Spenders - \n",
    "We use Upselling to recommend products to Big Spenders and VVIP customers using Highest Rated and High end prodcuts. \n",
    "\n",
    "4. For new Customers - \n",
    "We show Popular Products by current month for new customers. "
   ]
  },
  {
   "cell_type": "code",
   "execution_count": null,
   "id": "a8280ea7-0c9e-4f6b-884c-847e725f75cd",
   "metadata": {},
   "outputs": [],
   "source": []
  }
 ],
 "metadata": {
  "kernelspec": {
   "display_name": "Python 3 (ipykernel)",
   "language": "python",
   "name": "python3"
  },
  "language_info": {
   "codemirror_mode": {
    "name": "ipython",
    "version": 3
   },
   "file_extension": ".py",
   "mimetype": "text/x-python",
   "name": "python",
   "nbconvert_exporter": "python",
   "pygments_lexer": "ipython3",
   "version": "3.10.12"
  }
 },
 "nbformat": 4,
 "nbformat_minor": 5
}
