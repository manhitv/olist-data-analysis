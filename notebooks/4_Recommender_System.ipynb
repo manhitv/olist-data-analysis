{
 "cells": [
  {
   "cell_type": "code",
   "execution_count": null,
   "id": "eb9892e0-6594-4d13-a2b3-afaf06eda1bc",
   "metadata": {},
   "outputs": [],
   "source": [
    "# 1. Simple mode:\n",
    "# - Product Recommendation Based on Popularity by Month (and/or by Location) for New Customers\n",
    "# - Product Recommendation Based on Highly Rated Categories"
   ]
  },
  {
   "cell_type": "code",
   "execution_count": null,
   "id": "b0bc6dae-dcbc-462a-a274-93baeb24fb23",
   "metadata": {},
   "outputs": [],
   "source": [
    "# Add a survey here about recommender system definition & classification\n",
    "# Solution\n",
    "# And also the initiate of each method with business meaning\n",
    "# Metric for recommendation system?"
   ]
  },
  {
   "cell_type": "code",
   "execution_count": null,
   "id": "7b4b0cfe-5650-4877-8dce-d96a4a174806",
   "metadata": {},
   "outputs": [],
   "source": [
    "# 2. Alternating Least Squares: customer with nearest distance?\n",
    "# https://github.com/Nikhilkohli1/Olist-Marketing-Analytics/blob/master/5.%20Recommendation%20System/Jupyter%20Notebooks/Olist_Alternating_Least_Squares_SVD_.ipynb\n",
    "# Recommending top 10 highly coorelated products in sequence"
   ]
  },
  {
   "cell_type": "code",
   "execution_count": null,
   "id": "72ab76f4-76f2-4a3a-99e7-e2147b917831",
   "metadata": {},
   "outputs": [],
   "source": [
    "# 3. Customer2Vec - Loyal Customers who buys Products Frequently and Recently"
   ]
  },
  {
   "cell_type": "code",
   "execution_count": null,
   "id": "4f91c1d2-a62d-4c43-bd0b-18ff7fd13acb",
   "metadata": {},
   "outputs": [],
   "source": [
    "# Create models --> save to models\n",
    "# Deploy on Heroku / Flask (local only)\n",
    "\n",
    "# Before Lunar New Year (01/02/2024)"
   ]
  },
  {
   "cell_type": "markdown",
   "id": "85c93a49-5752-4c9b-beb0-5f07420a051a",
   "metadata": {},
   "source": [
    "Notes\n",
    "\n",
    "Recommender systems are algorithms aimed at suggesting relevant items to users (items being movies to watch, text to read, products to buy or anything else depending on industries).\n",
    "\n",
    "Recommender systems are really critical in some industries as they can generate a huge amount of income when they are efficient or also be a way to stand out significantly from competitors. As a proof of the importance of recommender systems, we can mention that, a few years ago, Netflix organised a challenge (the \"Netflix prize\") where the goal was to produce a recommender system that performs better than its own algorithm with a prize of 1 million dollars to win.\n",
    "\n",
    "Image\n",
    "\n",
    "We will be using below approach to Recommend products - \n",
    " \n",
    "1. Recommendation for Potential Loyalists and Other - \n",
    "ALS (Alternating Least Squares) is an implicit recommendation algorithm to make a recommendation of products and product categories to the users. ALS is an iterative optimization process where for every iteration it tries to arrive closer and closer to a factorized representation of the original data.\n",
    "\n",
    "2. Recommendation for Loyal Customers who buys Products Frequently and Recently -\n",
    "Customer2Vec is a good method for these kinds of users. As these customers usually repeat their orders and buys frequently. We learn a semantic representation for Customers using their previous purchase history.\n",
    "\n",
    "We learn good semantic representations for customers (users) from transactional data using doc2vec. Each customer is a document, orders are sentences, and products are words. We also compare Customer2Vec with the baseline\n",
    "\n",
    "3. For Big Spenders - \n",
    "We use Upselling to recommend products to Big Spenders and VVIP customers using Highest Rated and High end prodcuts. \n",
    "\n",
    "4. For new Customers - \n",
    "We show Popular Products by current month for new customers. "
   ]
  },
  {
   "cell_type": "code",
   "execution_count": null,
   "id": "a8280ea7-0c9e-4f6b-884c-847e725f75cd",
   "metadata": {},
   "outputs": [],
   "source": []
  }
 ],
 "metadata": {
  "kernelspec": {
   "display_name": "Python 3 (ipykernel)",
   "language": "python",
   "name": "python3"
  },
  "language_info": {
   "codemirror_mode": {
    "name": "ipython",
    "version": 3
   },
   "file_extension": ".py",
   "mimetype": "text/x-python",
   "name": "python",
   "nbconvert_exporter": "python",
   "pygments_lexer": "ipython3",
   "version": "3.8.10"
  }
 },
 "nbformat": 4,
 "nbformat_minor": 5
}
