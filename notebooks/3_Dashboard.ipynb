{
 "cells": [
  {
   "cell_type": "markdown",
   "id": "67c41294-27fb-499f-9fa4-6bbc59a5314a",
   "metadata": {},
   "source": [
    "## 1. Using dash to create simple website for dashboard - might extend to our current dashboard at the best country\n",
    "- Repo: https://github.com/plotly/dash-sample-apps/blob/main/apps/dash-cytoscape-editor/app.py\n",
    "- Ideas: https://dash.gallery/Portal/\n",
    "- Documentation: https://dash.plotly.com/minimal-app\n",
    "- Deployment: streamlit - https://github.com/Nikhilkohli1/Olist-Marketing-Analytics/blob/master/8.%20Streamlit%20Analytics%20Dashboard/Streamlit_webapp/Olist_Streamlit_Dashboard%20(3).ipynb\n",
    "\n",
    "--> start with streamlit, reference: https://sunscrapers.com/blog/data-viz-streamlit-dash-panel-summary/"
   ]
  },
  {
   "cell_type": "code",
   "execution_count": null,
   "id": "3a3cec94-a73a-49a4-997c-7115b029efc5",
   "metadata": {},
   "outputs": [],
   "source": [
    "# 1. Marketing dashboard with Plotly / Dash on jupyter-notebook - as summary of all previous sections\n",
    "# - Trend\n",
    "# - Cohort\n",
    "# - RFM\n",
    "# Example: https://github.com/Nikhilkohli1/Olist-Marketing-Analytics/blob/master/7.%20Marketing%20Dashboard/Dash3.JPG"
   ]
  },
  {
   "cell_type": "code",
   "execution_count": null,
   "id": "6a7cd20a-9c0e-4656-bdec-10ff497bae34",
   "metadata": {},
   "outputs": [],
   "source": [
    "# 2. Google Data Studio version"
   ]
  },
  {
   "cell_type": "code",
   "execution_count": null,
   "id": "1207d3d6-21e8-4425-ab55-b84976dd42fa",
   "metadata": {},
   "outputs": [],
   "source": [
    "# 3. Deploy to streamlit, separate section (app)"
   ]
  }
 ],
 "metadata": {
  "kernelspec": {
   "display_name": "Python 3 (ipykernel)",
   "language": "python",
   "name": "python3"
  },
  "language_info": {
   "codemirror_mode": {
    "name": "ipython",
    "version": 3
   },
   "file_extension": ".py",
   "mimetype": "text/x-python",
   "name": "python",
   "nbconvert_exporter": "python",
   "pygments_lexer": "ipython3",
   "version": "3.8.10"
  }
 },
 "nbformat": 4,
 "nbformat_minor": 5
}
