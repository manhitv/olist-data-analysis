{
 "cells": [
  {
   "cell_type": "code",
   "execution_count": null,
   "id": "ac8c3189-eb4a-4017-969c-c59ef7277f36",
   "metadata": {},
   "outputs": [],
   "source": [
    "# Timeline\n",
    "# 1. Create model 1, 2, 3 with max features (31/12)\n",
    "# - folder /src /tests /models /config\n",
    "# \n",
    "# 2. Analysis model output / life cycle: 02/01\n",
    "# - Review books (management - notebook, 3 new books)\n",
    "# 3. Deployment: 10/01\n",
    "# 3.1. service GCP\n",
    "# 3.2. app: streamlit / dash\n",
    "# file .toml, makefile\n",
    "# Baseline model --> pipeline with scikit learn, MLflow"
   ]
  },
  {
   "cell_type": "markdown",
   "id": "70282092-16db-477f-9dba-cea82e98e7c3",
   "metadata": {},
   "source": [
    "## 1. Problem Formulation\n",
    "\n",
    "In this section, we will do some predictive analysis to bring competitive values beside descriptive analysis as we did in section 1 and 2. Based on my experience, I think that four usecases could be solved by our data, they are:\n",
    "\n",
    "***A. Time to delivery estimation***\n",
    "\n",
    "***B. Freight value prediction***\n",
    "\n",
    "***C. Rating score prediction***\n",
    "\n",
    "***D. Life time value prediction***\n",
    "\n",
    "Although usecase D is very common in Ecommerce and Marketing domains, but Olist's customers are mostly new, so new customers will have LTV equal the average current customers and applying Machine Learning in this context is not necessary. Moreover, as we saw in section 1 (EDA), our ratings mostly fall in the quite small range of 3.95 to 4.2. This is quite a high number. In addition, ratings do not directly bring revenue. Therefore, predicting and improving Olist's rating is not really necessary. We then will focus on the first two usecases.\n",
    "\n",
    "Note that in practice, estimated delivery time and freight value are important factors affecting customer's decision. Therefore, they should be displayed as early as possible when customers consider whether to place an order or not.\n",
    "\n",
    "To avoid data leakage problem, we only use **features before labelling time** only, i.e. only use features created at the time of order. Because of their similarity and frequent appearance together, we can use the same set of features for these two problems."
   ]
  },
  {
   "cell_type": "markdown",
   "id": "828df1f8-3a31-4171-9411-0582377095a2",
   "metadata": {},
   "source": [
    "## 2. Data processing"
   ]
  },
  {
   "cell_type": "code",
   "execution_count": 9,
   "id": "d0c73bc6-5cc8-411a-b43c-f9fc74ec2759",
   "metadata": {},
   "outputs": [],
   "source": [
    "import pandas as pd\n",
    "\n",
    "df = pd.read_csv('../data/processed/olist.csv')\n",
    "df_geo = pd.read_csv('../data/raw/olist_geolocation_dataset.csv')\n",
    "df_geo = df_geo[df_geo.columns[:-2]].groupby('geolocation_zip_code_prefix').mean().reset_index()"
   ]
  },
  {
   "cell_type": "code",
   "execution_count": 10,
   "id": "3ebb0492-24f4-4ec5-8a5d-feef2d2b7d9c",
   "metadata": {},
   "outputs": [],
   "source": [
    "# Remove bad records with null deliver time\n",
    "df = df[df.order_delivered_customer_date.notnull()]"
   ]
  },
  {
   "cell_type": "markdown",
   "id": "dd49a4c8-033e-4783-98b6-5f98e4eb415e",
   "metadata": {},
   "source": [
    "#### 2.1. Label processing\n",
    "\n",
    "I will use `time_to_delivery` and `freight_value` as label for usecase A & B, respectively. Usecase B will be solved as a regression problem while usecase A will be considered as a classification one. Because classification problems are easier to achieve a good model and better than regression problems in term of explainability."
   ]
  },
  {
   "cell_type": "code",
   "execution_count": 13,
   "id": "8916a2fb-d90e-4167-b9dd-7cdb6702cbc0",
   "metadata": {},
   "outputs": [
    {
     "data": {
      "text/plain": [
       "<Axes: xlabel='time_to_delivery', ylabel='Count'>"
      ]
     },
     "execution_count": 13,
     "metadata": {},
     "output_type": "execute_result"
    },
    {
     "data": {
      "image/png": "[encoded data removed]",
      "text/plain": [
       "<Figure size 640x480 with 1 Axes>"
      ]
     },
     "metadata": {},
     "output_type": "display_data"
    }
   ],
   "source": [
    "import matplotlib.pyplot as plt\n",
    "import seaborn as sns\n",
    "plt.style.use('ggplot')\n",
    "\n",
    "sns.histplot(df['time_to_delivery'], bins=50)"
   ]
  },
  {
   "cell_type": "markdown",
   "id": "b616dff4-42b4-4d3a-bda2-75f1f25606c3",
   "metadata": {},
   "source": [
    "As we could see in the chart above, most of orders are shipped within 1 month (~96%), so that we could combine long deliveries into a single group. We then got a multiclass classification problem with 30 different classes from 1 to 29 and 30+. Moreover, output of this model will be compared with current delivery estimation (`delivery_against_estimated`)."
   ]
  },
  {
   "cell_type": "code",
   "execution_count": 14,
   "id": "4712b953-28f8-4eb7-af7a-3700752ee9c5",
   "metadata": {},
   "outputs": [],
   "source": [
    "df['time_to_delivery_update'] = df['time_to_delivery'].apply(lambda x: '30+' if x >=30 else x).astype(str)"
   ]
  },
  {
   "cell_type": "markdown",
   "id": "e4f8aa7f-73f0-41cc-9cd4-760525585eca",
   "metadata": {},
   "source": [
    "#### 2.2. Features\n",
    "*a. General features*\n",
    "\n",
    "These features are given or extracted easily from our master data. They are:\n",
    "\n",
    "- Order purchase time, extract to datetime components\n",
    "    - `order_purchase_year`\n",
    "    - `order_purchase_month`\n",
    "    - `order_purchase_dayofweek`\n",
    "    - `order_purchase_hour`\n",
    "\n",
    "- Customer demographics\n",
    "    - `customer_city`\n",
    "    - `customer_state`\n",
    "\n",
    "- Product information\n",
    "    - `product_category_name_english`\n",
    "    - `product_name_lenght`\n",
    "    - `product_description_lenght`\n",
    "    - `product_photos_qty`\n",
    "    - `product_weight_g`\n",
    "    - `product_length_cm`\n",
    "    - `product_height_cm`\n",
    "    - `product_width_cm`\n",
    "    - `product_volumn_cm`\n",
    "\n",
    "- Price & payment\n",
    "    - `price`\n",
    "    - `payment_sequential`\n",
    "    - `payment_type`\n",
    "    - `payment_installments`\n",
    "    - `payment_value`\n",
    "    - `payment_value` / `price`\n",
    "\n",
    "- Seller information\n",
    "    - `seller_city`\n",
    "    - `seller_state`"
   ]
  },
  {
   "attachments": {},
   "cell_type": "markdown",
   "id": "cdcf0ab6-47d8-46dd-9527-b9ad0a7fed70",
   "metadata": {},
   "source": [
    "#### 2.2. Potential features\n",
    "\n",
    "We will create some essential features related to the **distance between customers and sellers**. Currently, we can only calculate the distance as the crow flies. We can calculate the distance in more detail if we know the location of the delivery locations. I will assume we have transit points at the central area of each states, and goods will be shipped to the nearest hub close to seller, then transported directly to the nearest hub close to customer, and finally received by customer. For simplicity, we will only calculate the distance as the crow flies, but ignore other topographical issues such as detours and complex terrain."
   ]
  },
  {
   "cell_type": "code",
   "execution_count": 15,
   "id": "ec1e9be0-4b86-4d35-b653-0dc1ae108880",
   "metadata": {},
   "outputs": [],
   "source": [
    "df = (df\n",
    "      .merge(\n",
    "          df_geo, \n",
    "          left_on='customer_zip_code_prefix', \n",
    "          right_on='geolocation_zip_code_prefix',\n",
    "          how='left'\n",
    "      )\n",
    "      .rename(columns={'geolocation_lat': 'customer_lat', 'geolocation_lng': 'customer_lng'})\n",
    "      .merge(\n",
    "          df_geo, \n",
    "          left_on='seller_zip_code_prefix', \n",
    "          right_on='geolocation_zip_code_prefix',\n",
    "          how='left'\n",
    "      )\n",
    "      .rename(columns={'geolocation_lat': 'seller_lat', 'geolocation_lng': 'seller_lng'})\n",
    "    )\n",
    "\n",
    "# Transit points: based on customer location\n",
    "df_transit = (df.groupby('customer_state')\n",
    "              [['customer_lat', 'customer_lng']].mean()\n",
    "              .reset_index()\n",
    "              .rename(columns={'customer_lat': 'transit_lat', 'customer_lng': 'transit_lng'})\n",
    "             )\n",
    "\n",
    "df = (df\n",
    "      .merge(df_transit, on='customer_state', how='left')\n",
    "      .rename(columns={'transit_lat': 'transit_customer_lat', 'transit_lng': 'transit_customer_lng'})\n",
    "      .merge(df_transit.rename(columns={'customer_state': 'seller_state'}), on='seller_state', how='left')\n",
    "      .rename(columns={'transit_lat': 'transit_seller_lat', 'transit_lng': 'transit_seller_lng'})\n",
    "     )\n",
    "\n",
    "# Replace null value in customer & seller lat, lng with transit \n",
    "for col in ['customer_lat', 'customer_lng', 'seller_lat', 'seller_lng']:\n",
    "    df.loc[df[col].isnull(), col] = df.loc[df[col].isnull(), f'transit_{col}']"
   ]
  },
  {
   "cell_type": "code",
   "execution_count": 18,
   "id": "99db8574-2d27-44aa-ab81-4e577ec93d48",
   "metadata": {},
   "outputs": [],
   "source": [
    "from geopy import distance\n",
    "\n",
    "# Straight line distance between seller and customer\n",
    "df['cust_sell_straight_line'] = df.apply(lambda x: round(distance.distance((x['customer_lat'], x['customer_lng']), \n",
    "                                                                           (x['seller_lat'], x['seller_lng'])).km, 2), axis=1)\n",
    "\n",
    "# Distance when passing through transit points\n",
    "df['cust_to_transit'] = df.apply(lambda x: round(distance.distance((x['customer_lat'], x['customer_lng']), \n",
    "                                                                   (x['transit_customer_lat'], x['transit_customer_lng'])).km, 2), axis=1)\n",
    "\n",
    "df['sell_to_transit'] = df.apply(lambda x: round(distance.distance((x['seller_lat'], x['seller_lng']), \n",
    "                                                                   (x['transit_seller_lat'], x['transit_seller_lng'])).km, 2), axis=1)\n",
    "\n",
    "df['transit_to_transit'] = df.apply(lambda x: round(distance.distance((x['transit_seller_lat'], x['transit_seller_lng']), \n",
    "                                                                   (x['transit_customer_lat'], x['transit_customer_lng'])).km, 2), axis=1)\n",
    "\n",
    "df['cust_sell_via_transit'] = df[['cust_to_transit', 'sell_to_transit', 'transit_to_transit']].sum(axis=1)"
   ]
  },
  {
   "cell_type": "code",
   "execution_count": 1,
   "id": "3889878c-329b-4b45-9360-3ab627f545ec",
   "metadata": {},
   "outputs": [],
   "source": [
    "# Save to file\n",
    "import pandas as pd\n",
    "df = pd.read_csv('../data/processed/olist_ml.csv')\n",
    "# df.to_csv('../data/processed/olist_ml.csv', index=False)"
   ]
  },
  {
   "cell_type": "markdown",
   "id": "a4581421-2056-4e77-8ff7-c26bfccb304b",
   "metadata": {},
   "source": [
    "## 3. Modelling"
   ]
  },
  {
   "cell_type": "code",
   "execution_count": 2,
   "id": "4898d665-07fd-485e-a803-19aabd9a161d",
   "metadata": {},
   "outputs": [],
   "source": [
    "features = ['order_purchase_year', 'order_purchase_month', 'order_purchase_dayofweek', 'order_purchase_hour',\n",
    "            'customer_city', 'customer_state',\n",
    "            'product_category_name_english', 'product_name_lenght', 'product_description_lenght', 'product_photos_qty', 'product_weight_g', 'product_length_cm', 'product_height_cm', \n",
    "            'product_width_cm', \n",
    "            'price', 'payment_sequential', 'payment_type', 'payment_installments', 'payment_value',\n",
    "            'seller_city', 'seller_state',\n",
    "            'cust_sell_straight_line', 'cust_to_transit', 'sell_to_transit', 'transit_to_transit', 'cust_sell_via_transit'\n",
    "           ]"
   ]
  },
  {
   "cell_type": "code",
   "execution_count": 3,
   "id": "564b7172-a1f5-4291-8829-ceea000b01bd",
   "metadata": {},
   "outputs": [],
   "source": [
    "from sklearn.model_selection import train_test_split\n",
    "from sklearn.linear_model import LogisticRegression, LinearRegression\n",
    "from sklearn.ensemble import RandomForestClassifier, RandomForestRegressor\n",
    "from catboost import CatBoostClassifier, CatBoostRegressor\n",
    "from lightgbm import LGBMClassifier, LGBMRegressor\n",
    "\n",
    "from sklearn.metrics import roc_auc_score, accuracy_score, classification_report, r2_score, root_mean_squared_error\n",
    "from sklearn.preprocessing import OneHotEncoder, LabelEncoder\n",
    "# We are using the same features for both models, so that we will denote it as below\n",
    "# Model 1: time-to-delivery prediction\n",
    "# Split into training, validation, testing\n",
    "X_train, X_test, y_train, y_test = train_test_split(df[features], df['time_to_delivery_update'], test_size=0.2, random_state=42, shuffle=True)"
   ]
  },
  {
   "cell_type": "code",
   "execution_count": 4,
   "id": "1de9759f-9d55-4ff2-95f2-f666a970cdd8",
   "metadata": {},
   "outputs": [
    {
     "data": {
      "text/plain": [
       "((90567, 20), (22642, 20))"
      ]
     },
     "execution_count": 4,
     "metadata": {},
     "output_type": "execute_result"
    }
   ],
   "source": [
    "# Preprocess category columns\n",
    "cat_col_one_hot_enc = [\n",
    "    'order_purchase_month', 'order_purchase_dayofweek', 'customer_state', 'product_category_name_english', 'payment_type', \n",
    "    'seller_state'\n",
    "]\n",
    "\n",
    "cat_col_label_enc = ['customer_city', 'seller_city'] # too high cardinality\n",
    "\n",
    "for col in cat_col_one_hot_enc:\n",
    "    temp = pd.get_dummies(X_train[col])\n",
    "    temp.columns = [f'{col}__{i}' for i in temp.columns]\n",
    "    X_train = X_train.join(temp).drop(col, axis=1)\n",
    "    X_test = X_test.join(temp).drop(col, axis=1)\n",
    "\n",
    "for col in cat_col_label_enc:\n",
    "    encoder = LabelEncoder().fit(df[col])\n",
    "    X_train[col] = encoder.transform(X_train[col])\n",
    "    X_test[col] = encoder.transform(X_test[col])\n",
    "\n",
    "# Remove columns that fully null in train and test\n",
    "temp = X_train.isna().sum() / X_train.shape[0]\n",
    "X_train = X_train[temp[temp < 1].index.tolist()]\n",
    "\n",
    "temp = X_test.isna().sum() / X_test.shape[0]\n",
    "X_test = X_test[temp[temp < 1].index.tolist()]\n",
    "\n",
    "X_train, X_test = X_train.align(X_test, join='inner', axis=1)\n",
    "X_train.shape, X_test.shape"
   ]
  },
  {
   "cell_type": "code",
   "execution_count": 15,
   "id": "c21dde63-5526-4856-9f84-f28c103c5ee9",
   "metadata": {},
   "outputs": [
    {
     "name": "stdout",
     "output_type": "stream",
     "text": [
      "lr\n"
     ]
    },
    {
     "name": "stderr",
     "output_type": "stream",
     "text": [
      "/home/manhitv/.local/lib/python3.10/site-packages/sklearn/linear_model/_logistic.py:469: ConvergenceWarning: lbfgs failed to converge (status=1):\n",
      "STOP: TOTAL NO. of ITERATIONS REACHED LIMIT.\n",
      "\n",
      "Increase the number of iterations (max_iter) or scale the data as shown in:\n",
      "    https://scikit-learn.org/stable/modules/preprocessing.html\n",
      "Please also refer to the documentation for alternative solver options:\n",
      "    https://scikit-learn.org/stable/modules/linear_model.html#logistic-regression\n",
      "  n_iter_i = _check_optimize_result(\n"
     ]
    },
    {
     "name": "stdout",
     "output_type": "stream",
     "text": [
      "rf\n",
      "cb\n",
      "lgb\n"
     ]
    }
   ],
   "source": [
    "# Model list:\n",
    "# - Linear models: used as baselines\n",
    "# - Ensembles \n",
    "# + Bagging: Random Forest\n",
    "# + Boosting: LightGBM, CatBoost\n",
    "classification_models = {\n",
    "    'lr': LogisticRegression(multi_class='ovr'),\n",
    "    'rf': RandomForestClassifier(),\n",
    "    'cb': CatBoostClassifier(verbose=False),\n",
    "    'lgb': LGBMClassifier(verbose=-1)\n",
    "}\n",
    "\n",
    "ttd_result = {}\n",
    "for name, model in classification_models.items():\n",
    "    print(name)\n",
    "    if name in ['lr']:\n",
    "        X_train_na, X_test_na = X_train.copy(), X_test.copy()\n",
    "        for col in X_train.columns:\n",
    "            X_train_na[col] = X_train_na[col].fillna(X_train_na[col].mean())\n",
    "            X_test_na[col] = X_test_na[col].fillna(X_test_na[col].mean())\n",
    "        model.fit(X_train_na, y_train)\n",
    "            \n",
    "        y_pred = model.predict(X_test_na)\n",
    "        y_pred_prob = model.predict_proba(X_test_na)\n",
    "    else:\n",
    "        model.fit(X_train, y_train)\n",
    "        y_pred = model.predict(X_test)\n",
    "        y_pred_prob = model.predict_proba(X_test)\n",
    "    \n",
    "    # We will use roc_auc as evaluation metric\n",
    "    roc_auc = roc_auc_score(y_test, y_pred_prob, multi_class='ovr')\n",
    "    accuracy = accuracy_score(y_test, y_pred)\n",
    "        \n",
    "    ttd_result[name] = {\n",
    "        'roc_auc': roc_auc, \n",
    "        'accuracy': accuracy, \n",
    "        'model': model\n",
    "    }"
   ]
  },
  {
   "cell_type": "code",
   "execution_count": 16,
   "id": "64c921f7-60b6-4ff7-baa1-8157bfaf6fe0",
   "metadata": {},
   "outputs": [
    {
     "data": {
      "text/html": [
       "<div>\n",
       "<style scoped>\n",
       "    .dataframe tbody tr th:only-of-type {\n",
       "        vertical-align: middle;\n",
       "    }\n",
       "\n",
       "    .dataframe tbody tr th {\n",
       "        vertical-align: top;\n",
       "    }\n",
       "\n",
       "    .dataframe thead th {\n",
       "        text-align: right;\n",
       "    }\n",
       "</style>\n",
       "<table border=\"1\" class=\"dataframe\">\n",
       "  <thead>\n",
       "    <tr style=\"text-align: right;\">\n",
       "      <th></th>\n",
       "      <th>lr</th>\n",
       "      <th>rf</th>\n",
       "      <th>cb</th>\n",
       "      <th>lgb</th>\n",
       "    </tr>\n",
       "  </thead>\n",
       "  <tbody>\n",
       "    <tr>\n",
       "      <th>roc_auc</th>\n",
       "      <td>0.684236</td>\n",
       "      <td>0.751907</td>\n",
       "      <td>0.753358</td>\n",
       "      <td>0.738235</td>\n",
       "    </tr>\n",
       "    <tr>\n",
       "      <th>accuracy</th>\n",
       "      <td>0.104143</td>\n",
       "      <td>0.30333</td>\n",
       "      <td>0.189957</td>\n",
       "      <td>0.206651</td>\n",
       "    </tr>\n",
       "    <tr>\n",
       "      <th>model</th>\n",
       "      <td>LogisticRegression(multi_class='ovr')</td>\n",
       "      <td>(DecisionTreeClassifier(max_features='sqrt', r...</td>\n",
       "      <td>&lt;catboost.core.CatBoostClassifier object at 0x...</td>\n",
       "      <td>LGBMClassifier(verbose=-1)</td>\n",
       "    </tr>\n",
       "  </tbody>\n",
       "</table>\n",
       "</div>"
      ],
      "text/plain": [
       "                                             lr  \\\n",
       "roc_auc                                0.684236   \n",
       "accuracy                               0.104143   \n",
       "model     LogisticRegression(multi_class='ovr')   \n",
       "\n",
       "                                                         rf  \\\n",
       "roc_auc                                            0.751907   \n",
       "accuracy                                            0.30333   \n",
       "model     (DecisionTreeClassifier(max_features='sqrt', r...   \n",
       "\n",
       "                                                         cb  \\\n",
       "roc_auc                                            0.753358   \n",
       "accuracy                                           0.189957   \n",
       "model     <catboost.core.CatBoostClassifier object at 0x...   \n",
       "\n",
       "                                 lgb  \n",
       "roc_auc                     0.738235  \n",
       "accuracy                    0.206651  \n",
       "model     LGBMClassifier(verbose=-1)  "
      ]
     },
     "execution_count": 16,
     "metadata": {},
     "output_type": "execute_result"
    }
   ],
   "source": [
    "pd.DataFrame(ttd_result)"
   ]
  },
  {
   "cell_type": "code",
   "execution_count": 23,
   "id": "864a6ec3-d109-45bb-a604-61a4b63d0276",
   "metadata": {},
   "outputs": [],
   "source": [
    "# Model 2: freight value prediction - we will utilize last preprocessing steps\n",
    "y_train_FP, y_test_FP = X_train.join(df['freight_value'])['freight_value'], X_test.join(df['freight_value'])['freight_value']"
   ]
  },
  {
   "cell_type": "code",
   "execution_count": 26,
   "id": "3b66f91f-6e91-4c10-b97d-f2113cf2ffea",
   "metadata": {},
   "outputs": [
    {
     "name": "stdout",
     "output_type": "stream",
     "text": [
      "lr\n",
      "rf\n",
      "cb\n",
      "lgb\n"
     ]
    }
   ],
   "source": [
    "# Model list:\n",
    "# - Linear models: used as baselines\n",
    "# - Ensembles \n",
    "# + Bagging: Random Forest\n",
    "# + Boosting: LightGBM, CatBoost\n",
    "regression_models = {\n",
    "    'lr': LinearRegression(),\n",
    "    'rf': RandomForestRegressor(),\n",
    "    'cb': CatBoostRegressor(verbose=False),\n",
    "    'lgb': LGBMRegressor(verbose=-1)\n",
    "}\n",
    "\n",
    "fp_result = {}\n",
    "for name, model in regression_models.items():\n",
    "    print(name)\n",
    "    if name in ['lr']:\n",
    "        model.fit(X_train_na, y_train_FP)  \n",
    "        y_pred = model.predict(X_test_na)\n",
    "    else:\n",
    "        model.fit(X_train, y_train_FP)\n",
    "        y_pred = model.predict(X_test)\n",
    "    \n",
    "    # We will use roc_auc as evaluation metric\n",
    "    rmse = root_mean_squared_error(y_test_FP, y_pred)\n",
    "    r2 = r2_score(y_test_FP, y_pred)\n",
    "        \n",
    "    fp_result[name] = {\n",
    "        'rmse': rmse, \n",
    "        'r2': r2, \n",
    "        'model': model\n",
    "    }"
   ]
  },
  {
   "cell_type": "code",
   "execution_count": 27,
   "id": "6370ad2a-a802-4a02-8647-8678d1dde8ad",
   "metadata": {},
   "outputs": [
    {
     "data": {
      "text/html": [
       "<div>\n",
       "<style scoped>\n",
       "    .dataframe tbody tr th:only-of-type {\n",
       "        vertical-align: middle;\n",
       "    }\n",
       "\n",
       "    .dataframe tbody tr th {\n",
       "        vertical-align: top;\n",
       "    }\n",
       "\n",
       "    .dataframe thead th {\n",
       "        text-align: right;\n",
       "    }\n",
       "</style>\n",
       "<table border=\"1\" class=\"dataframe\">\n",
       "  <thead>\n",
       "    <tr style=\"text-align: right;\">\n",
       "      <th></th>\n",
       "      <th>lr</th>\n",
       "      <th>rf</th>\n",
       "      <th>cb</th>\n",
       "      <th>lgb</th>\n",
       "    </tr>\n",
       "  </thead>\n",
       "  <tbody>\n",
       "    <tr>\n",
       "      <th>rmse</th>\n",
       "      <td>9.945721</td>\n",
       "      <td>6.996937</td>\n",
       "      <td>6.716807</td>\n",
       "      <td>7.413465</td>\n",
       "    </tr>\n",
       "    <tr>\n",
       "      <th>r2</th>\n",
       "      <td>0.596569</td>\n",
       "      <td>0.80033</td>\n",
       "      <td>0.815998</td>\n",
       "      <td>0.77585</td>\n",
       "    </tr>\n",
       "    <tr>\n",
       "      <th>model</th>\n",
       "      <td>LinearRegression()</td>\n",
       "      <td>(DecisionTreeRegressor(max_features=1.0, rando...</td>\n",
       "      <td>&lt;catboost.core.CatBoostRegressor object at 0x7...</td>\n",
       "      <td>LGBMRegressor(verbose=-1)</td>\n",
       "    </tr>\n",
       "  </tbody>\n",
       "</table>\n",
       "</div>"
      ],
      "text/plain": [
       "                       lr                                                 rf  \\\n",
       "rmse             9.945721                                           6.996937   \n",
       "r2               0.596569                                            0.80033   \n",
       "model  LinearRegression()  (DecisionTreeRegressor(max_features=1.0, rando...   \n",
       "\n",
       "                                                      cb  \\\n",
       "rmse                                            6.716807   \n",
       "r2                                              0.815998   \n",
       "model  <catboost.core.CatBoostRegressor object at 0x7...   \n",
       "\n",
       "                             lgb  \n",
       "rmse                    7.413465  \n",
       "r2                       0.77585  \n",
       "model  LGBMRegressor(verbose=-1)  "
      ]
     },
     "execution_count": 27,
     "metadata": {},
     "output_type": "execute_result"
    }
   ],
   "source": [
    "pd.DataFrame(fp_result)"
   ]
  },
  {
   "cell_type": "code",
   "execution_count": 36,
   "id": "dba74aea-d98c-4cbd-a7e9-68fe5fca1d71",
   "metadata": {},
   "outputs": [],
   "source": [
    "# 3. Experiment - CatBoost show the best performance on both problem, now we will try to improve it (could run on full dataset) and create the final models\n",
    "# Retrain model to remove bad features (our feature list is not much so this technique might does not help\n",
    "X_full, y_full_ttd, y_full_fp = pd.concat([X_train, X_test]), pd.concat([y_train, y_test]), pd.concat([y_train_FP, y_test_FP])\n",
    "ttd_model = CatBoostClassifier(verbose=False).fit(X_full, y_full_ttd)\n",
    "fp_model = CatBoostRegressor(verbose=False).fit(X_full, y_full_fp)\n",
    "# Hyperparameter tuning: Optional"
   ]
  },
  {
   "cell_type": "code",
   "execution_count": 37,
   "id": "1ca5b977-9892-49ce-84d4-ff9da536b746",
   "metadata": {},
   "outputs": [],
   "source": [
    "import pickle\n",
    "\n",
    "ttd_model_file = '../models/ttd_model.pkl'\n",
    "fp_model_file = '../models/fp_model.pkl'\n",
    "\n",
    "pickle.dump(ttd_model, open(ttd_model_file, 'wb'))\n",
    "pickle.dump(fp_model, open(fp_model_file, 'wb'))"
   ]
  },
  {
   "cell_type": "code",
   "execution_count": null,
   "id": "3a458a7d-165b-4fc2-82a6-ca5d7e8165ff",
   "metadata": {},
   "outputs": [],
   "source": [
    "# 5. Review model performance: check books\n",
    "# Add model full life cycle with customer feedback / trigger discount\n",
    "# Add business value analysis after creating models"
   ]
  },
  {
   "cell_type": "code",
   "execution_count": 1,
   "id": "a03c7292-b453-4d49-ad7e-19f6f0cefdc0",
   "metadata": {},
   "outputs": [],
   "source": [
    "# 6. Deployment with MLflow\n",
    "# model 1 & 2 are most critical with Ecommerce\n",
    "# deploy best model only (for example)"
   ]
  },
  {
   "cell_type": "markdown",
   "id": "a116e9b9-f241-449f-8e36-b2e356368287",
   "metadata": {},
   "source": [
    "#### 3. Visualization output in \n",
    "1. `Plotly`\n",
    "- https://github.com/plotly/dash-sample-apps/blob/main/apps/dash-cytoscape-editor/app.py\n",
    "- https://dash.gallery/Portal/\n",
    "- https://dash.plotly.com/minimal-app\n",
    "- https://github.com/Nikhilkohli1/Olist-Marketing-Analytics/blob/master/8.%20Streamlit%20Analytics%20Dashboard/Streamlit_webapp/Olist_Streamlit_Dashboard%20(3).ipynb\n",
    "\n",
    "2. `Streamlit`: if customize in Plotly is hard"
   ]
  }
 ],
 "metadata": {
  "kernelspec": {
   "display_name": "Python 3 (ipykernel)",
   "language": "python",
   "name": "python3"
  },
  "language_info": {
   "codemirror_mode": {
    "name": "ipython",
    "version": 3
   },
   "file_extension": ".py",
   "mimetype": "text/x-python",
   "name": "python",
   "nbconvert_exporter": "python",
   "pygments_lexer": "ipython3",
   "version": "3.10.12"
  }
 },
 "nbformat": 4,
 "nbformat_minor": 5
}
