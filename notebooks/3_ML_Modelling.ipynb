{
 "cells": [
  {
   "cell_type": "code",
   "execution_count": null,
   "id": "ac8c3189-eb4a-4017-969c-c59ef7277f36",
   "metadata": {},
   "outputs": [],
   "source": [
    "# Timeline\n",
    "# 1. Create model 1, 2, 3 with max features (31/12)\n",
    "# - folder /src /tests /models /config\n",
    "# \n",
    "# 2. Analysis model output / life cycle: 02/01\n",
    "# - Review books (management - notebook, 3 new books)\n",
    "# 3. Deployment: 10/01\n",
    "# 3.1. service GCP\n",
    "# 3.2. app: streamlit / dash\n",
    "# file .toml, makefile?"
   ]
  },
  {
   "cell_type": "markdown",
   "id": "9d9c13de-3464-473a-beb2-4299a6ca762a",
   "metadata": {},
   "source": [
    "## Model list\n",
    "#### Context\n",
    "distance (customers, sellers) vs. delivery time vs. late delivery rate vs. delivery estimation correctness\n",
    "\n",
    "#### 1. Estimate delivery time --> than compare with current estimated time\n",
    "- order time\n",
    "- est. distance, location\n",
    "- product type\n",
    "#### 2. Freight value prediction\n",
    "- customers - sellers est. distance\n",
    "- volume, size, weight of product\n",
    "- price\n",
    "- product type\n",
    "- location: state/city\n",
    "#### 3. Rating prediction\n",
    "- https://www.kaggle.com/code/andresionek/predicting-customer-satisfaction#e.-Data-Viz\n",
    "- Use feature before delivery only\n",
    "- product_photos_qty            \n",
    "- product_description_lenght    \n",
    "- product_name_lenght          \n",
    "- order_products_value         \n",
    "- order_freight_value          \n",
    "- order_items_qty             \n",
    "- order_sellers_qty\n",
    "#### 4. Life time value prediction - X comment only\n",
    "- Most customers are new, so this model will not contribute much - generally, new customers will have LTV equal the average current customers"
   ]
  },
  {
   "cell_type": "code",
   "execution_count": null,
   "id": "3a458a7d-165b-4fc2-82a6-ca5d7e8165ff",
   "metadata": {},
   "outputs": [],
   "source": [
    "# 1. Review model performance: check books\n",
    "# Add model full life cycle with customer feedback / trigger discount\n",
    "# Add business value analysis after creating models"
   ]
  },
  {
   "cell_type": "code",
   "execution_count": 1,
   "id": "a03c7292-b453-4d49-ad7e-19f6f0cefdc0",
   "metadata": {},
   "outputs": [],
   "source": [
    "# 2. Deployment with MLflow\n",
    "# model 1 & 2 are most critical with Ecommerce\n",
    "# deploy best model only (for example)"
   ]
  },
  {
   "cell_type": "markdown",
   "id": "a116e9b9-f241-449f-8e36-b2e356368287",
   "metadata": {},
   "source": [
    "#### 3. Visualization output in \n",
    "1. `Plotly`\n",
    "- https://github.com/plotly/dash-sample-apps/blob/main/apps/dash-cytoscape-editor/app.py\n",
    "- https://dash.gallery/Portal/\n",
    "- https://dash.plotly.com/minimal-app\n",
    "- https://github.com/Nikhilkohli1/Olist-Marketing-Analytics/blob/master/8.%20Streamlit%20Analytics%20Dashboard/Streamlit_webapp/Olist_Streamlit_Dashboard%20(3).ipynb\n",
    "\n",
    "2. `Streamlit`: if customize in Plotly is hard"
   ]
  }
 ],
 "metadata": {
  "kernelspec": {
   "display_name": "Python 3 (ipykernel)",
   "language": "python",
   "name": "python3"
  },
  "language_info": {
   "codemirror_mode": {
    "name": "ipython",
    "version": 3
   },
   "file_extension": ".py",
   "mimetype": "text/x-python",
   "name": "python",
   "nbconvert_exporter": "python",
   "pygments_lexer": "ipython3",
   "version": "3.8.10"
  }
 },
 "nbformat": 4,
 "nbformat_minor": 5
}
